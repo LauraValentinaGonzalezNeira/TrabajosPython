{
  "nbformat": 4,
  "nbformat_minor": 0,
  "metadata": {
    "colab": {
      "name": "plot_list.ipynb",
      "provenance": [],
      "authorship_tag": "ABX9TyM+syEEgSzhLp7xc5Ys+hOv",
      "include_colab_link": true
    },
    "kernelspec": {
      "name": "python3",
      "display_name": "Python 3"
    },
    "language_info": {
      "name": "python"
    }
  },
  "cells": [
    {
      "cell_type": "markdown",
      "metadata": {
        "id": "view-in-github",
        "colab_type": "text"
      },
      "source": [
        "<a href=\"https://colab.research.google.com/github/LauraValentinaGonzalezNeira/TrabajosPython/blob/main/plot_list.ipynb\" target=\"_parent\"><img src=\"https://colab.research.google.com/assets/colab-badge.svg\" alt=\"Open In Colab\"/></a>"
      ]
    },
    {
      "cell_type": "code",
      "metadata": {
        "colab": {
          "base_uri": "https://localhost:8080/",
          "height": 302
        },
        "id": "5sQ-Bj95hFor",
        "outputId": "94ce1cb3-5600-44ee-ad0a-bc526c0e5a7e"
      },
      "source": [
        "import matplotlib.pyplot as plt \n",
        "lista = []\n",
        "num= int(input(\"Ingrese el número que deseé: \"))\n",
        "lista.append(num)\n",
        "\n",
        "while num != 1:\n",
        "  if num %2 == 0:\n",
        "    num = num/2\n",
        "    lista.append(num) \n",
        "  else:\n",
        "    num = (num*3)+1\n",
        "    lista.append(num)\n",
        "print(lista)\n",
        "plt.plot(lista,\"r--\")\n",
        "plt.show()\n",
        "##Laura Valentina Gonzalez Neira \n",
        "##Cod:20172005038"
      ],
      "execution_count": 7,
      "outputs": [
        {
          "output_type": "stream",
          "text": [
            "Ingrese el número que deseé: 48\n",
            "[48, 24.0, 12.0, 6.0, 3.0, 10.0, 5.0, 16.0, 8.0, 4.0, 2.0, 1.0]\n"
          ],
          "name": "stdout"
        },
        {
          "output_type": "display_data",
          "data": {
            "image/png": "[encoded data removed]",
            "text/plain": [
              "<Figure size 432x288 with 1 Axes>"
            ]
          },
          "metadata": {
            "tags": [],
            "needs_background": "light"
          }
        }
      ]
    }
  ]
}